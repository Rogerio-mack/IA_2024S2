{
  "nbformat": 4,
  "nbformat_minor": 0,
  "metadata": {
    "anaconda-cloud": {},
    "kernelspec": {
      "display_name": "Python 3",
      "language": "python",
      "name": "python3"
    },
    "language_info": {
      "codemirror_mode": {
        "name": "ipython",
        "version": 3
      },
      "file_extension": ".py",
      "mimetype": "text/x-python",
      "name": "python",
      "nbconvert_exporter": "python",
      "pygments_lexer": "ipython3",
      "version": "3.7.4"
    },
    "colab": {
      "name": "ML3_RegressaoLogistica_ex_solucao.ipynb",
      "provenance": [],
      "include_colab_link": true
    }
  },
  "cells": [
    {
      "cell_type": "markdown",
      "metadata": {
        "id": "view-in-github",
        "colab_type": "text"
      },
      "source": [
        "<a href=\"https://colab.research.google.com/github/Rogerio-mack/IA_2024S2/blob/main/ML3_RegressaoLogistica_ex_solucao.ipynb\" target=\"_parent\"><img src=\"https://colab.research.google.com/assets/colab-badge.svg\" alt=\"Open In Colab\"/></a>"
      ]
    },
    {
      "cell_type": "markdown",
      "metadata": {
        "id": "80CF3Eq9EXDW"
      },
      "source": [
        "<head>\n",
        "  <meta name=\"author\" content=\"Rogério de Oliveira\">\n",
        "  <meta institution=\"author\" content=\"Universidade Presbiteriana Mackenzie\">\n",
        "</head>\n",
        "\n",
        "<img src=\"http://meusite.mackenzie.br/rogerio/mackenzie_logo/UPM.2_horizontal_vermelho.jpg\" width=300, align=\"right\">\n",
        "<!-- <h1 align=left><font size = 6, style=\"color:rgb(200,0,0)\"> optional title </font></h1> -->\n"
      ]
    },
    {
      "cell_type": "markdown",
      "metadata": {
        "id": "g1Hap25KEXDX"
      },
      "source": [
        "# **3. Classificação: Regressão Logística**\n",
        "---\n",
        "\n",
        "Após fazer os exercícios deste laboratório responda ao **questionário correspondente da aula no Moodle**.\n",
        "\n"
      ]
    },
    {
      "cell_type": "markdown",
      "source": [
        "## Relembrando aqui...\n",
        "\n",
        "Abaixo você pode rever o esquema geral de aplicação do modelo logístico."
      ],
      "metadata": {
        "id": "9898hEksOPD_"
      }
    },
    {
      "cell_type": "code",
      "metadata": {
        "id": "9_7mcJXbFnyU",
        "outputId": "a1e2be86-6729-4564-ab3c-1c90f77d26c5",
        "colab": {
          "base_uri": "https://localhost:8080/"
        }
      },
      "source": [
        "%%script echo skiping\n",
        "from sklearn.model_selection import train_test_split\n",
        "from sklearn.linear_model import LogisticRegression\n",
        "\n",
        "# separando variável dependente e independentes\n",
        "x = df.drop('y',axis=1)\n",
        "y = df['y']\n",
        "\n",
        "# separando conjuntos de treinamento e teste\n",
        "X_train, X_test, y_train, y_test = train_test_split(x, y, test_size=0.3, stratify=y, random_state=1)\n",
        "\n",
        "# selecionando o modelo\n",
        "clf = LogisticRegression()\n",
        "\n",
        "# treinando o modelo\n",
        "clf.fit(X_train,y_train)\n",
        "\n",
        "# utilizando o modelo\n",
        "y_pred = clf.predict(X_test)\n",
        "\n",
        "# verificando o resultado\n",
        "print( clf.score(X_test,y_test) )"
      ],
      "execution_count": null,
      "outputs": [
        {
          "output_type": "stream",
          "name": "stdout",
          "text": [
            "skiping\n"
          ]
        }
      ]
    },
    {
      "cell_type": "markdown",
      "metadata": {
        "_uuid": "9dd9e07c590ca22f0c525222f60f0ebff4e092c6",
        "id": "SLTshJXLA4LT"
      },
      "source": [
        "# Caso: **Origem dos veículos**\n",
        "\n",
        "Neste Lab você vai empregar o modelo de Regressão Logística para classificar a origem de veículos a partir de dados de consumo de combustível em veículos (milhas por galão, mpg) e outras informações.\n",
        "\n",
        "Dados (originais): https://archive.ics.uci.edu/ml/datasets/auto+mpg"
      ]
    },
    {
      "cell_type": "markdown",
      "source": [
        "## Seus imports"
      ],
      "metadata": {
        "id": "ufen9jyZN7Kr"
      }
    },
    {
      "cell_type": "code",
      "metadata": {
        "id": "UPVeFK3a5i6d"
      },
      "source": [
        "# seu código\n",
        "import pandas as pd\n",
        "import numpy as np\n",
        "import matplotlib.pyplot as plt\n",
        "%matplotlib inline\n",
        "import seaborn as sns\n",
        "import warnings\n",
        "warnings.filterwarnings(\"ignore\")\n",
        "\n",
        "from sklearn.model_selection import train_test_split\n",
        "from sklearn.linear_model import LogisticRegression\n"
      ],
      "execution_count": null,
      "outputs": []
    },
    {
      "cell_type": "markdown",
      "source": [
        "## Load data set"
      ],
      "metadata": {
        "id": "-xbHxSQ8Px1-"
      }
    },
    {
      "cell_type": "code",
      "metadata": {
        "id": "S4n19clB0fvg",
        "colab": {
          "base_uri": "https://localhost:8080/",
          "height": 206
        },
        "outputId": "5d1a577c-3e84-4548-88f1-ce0438cb24af"
      },
      "source": [
        "mpg = sns.load_dataset('mpg')\n",
        "mpg.head()"
      ],
      "execution_count": null,
      "outputs": [
        {
          "output_type": "execute_result",
          "data": {
            "text/plain": [
              "    mpg  cylinders  displacement  horsepower  weight  acceleration  \\\n",
              "0  18.0          8         307.0       130.0    3504          12.0   \n",
              "1  15.0          8         350.0       165.0    3693          11.5   \n",
              "2  18.0          8         318.0       150.0    3436          11.0   \n",
              "3  16.0          8         304.0       150.0    3433          12.0   \n",
              "4  17.0          8         302.0       140.0    3449          10.5   \n",
              "\n",
              "   model_year origin                       name  \n",
              "0          70    usa  chevrolet chevelle malibu  \n",
              "1          70    usa          buick skylark 320  \n",
              "2          70    usa         plymouth satellite  \n",
              "3          70    usa              amc rebel sst  \n",
              "4          70    usa                ford torino  "
            ],
            "text/html": [
              "\n",
              "  <div id=\"df-db6d9e53-32aa-46cc-8a6a-5d7712618830\">\n",
              "    <div class=\"colab-df-container\">\n",
              "      <div>\n",
              "<style scoped>\n",
              "    .dataframe tbody tr th:only-of-type {\n",
              "        vertical-align: middle;\n",
              "    }\n",
              "\n",
              "    .dataframe tbody tr th {\n",
              "        vertical-align: top;\n",
              "    }\n",
              "\n",
              "    .dataframe thead th {\n",
              "        text-align: right;\n",
              "    }\n",
              "</style>\n",
              "<table border=\"1\" class=\"dataframe\">\n",
              "  <thead>\n",
              "    <tr style=\"text-align: right;\">\n",
              "      <th></th>\n",
              "      <th>mpg</th>\n",
              "      <th>cylinders</th>\n",
              "      <th>displacement</th>\n",
              "      <th>horsepower</th>\n",
              "      <th>weight</th>\n",
              "      <th>acceleration</th>\n",
              "      <th>model_year</th>\n",
              "      <th>origin</th>\n",
              "      <th>name</th>\n",
              "    </tr>\n",
              "  </thead>\n",
              "  <tbody>\n",
              "    <tr>\n",
              "      <th>0</th>\n",
              "      <td>18.0</td>\n",
              "      <td>8</td>\n",
              "      <td>307.0</td>\n",
              "      <td>130.0</td>\n",
              "      <td>3504</td>\n",
              "      <td>12.0</td>\n",
              "      <td>70</td>\n",
              "      <td>usa</td>\n",
              "      <td>chevrolet chevelle malibu</td>\n",
              "    </tr>\n",
              "    <tr>\n",
              "      <th>1</th>\n",
              "      <td>15.0</td>\n",
              "      <td>8</td>\n",
              "      <td>350.0</td>\n",
              "      <td>165.0</td>\n",
              "      <td>3693</td>\n",
              "      <td>11.5</td>\n",
              "      <td>70</td>\n",
              "      <td>usa</td>\n",
              "      <td>buick skylark 320</td>\n",
              "    </tr>\n",
              "    <tr>\n",
              "      <th>2</th>\n",
              "      <td>18.0</td>\n",
              "      <td>8</td>\n",
              "      <td>318.0</td>\n",
              "      <td>150.0</td>\n",
              "      <td>3436</td>\n",
              "      <td>11.0</td>\n",
              "      <td>70</td>\n",
              "      <td>usa</td>\n",
              "      <td>plymouth satellite</td>\n",
              "    </tr>\n",
              "    <tr>\n",
              "      <th>3</th>\n",
              "      <td>16.0</td>\n",
              "      <td>8</td>\n",
              "      <td>304.0</td>\n",
              "      <td>150.0</td>\n",
              "      <td>3433</td>\n",
              "      <td>12.0</td>\n",
              "      <td>70</td>\n",
              "      <td>usa</td>\n",
              "      <td>amc rebel sst</td>\n",
              "    </tr>\n",
              "    <tr>\n",
              "      <th>4</th>\n",
              "      <td>17.0</td>\n",
              "      <td>8</td>\n",
              "      <td>302.0</td>\n",
              "      <td>140.0</td>\n",
              "      <td>3449</td>\n",
              "      <td>10.5</td>\n",
              "      <td>70</td>\n",
              "      <td>usa</td>\n",
              "      <td>ford torino</td>\n",
              "    </tr>\n",
              "  </tbody>\n",
              "</table>\n",
              "</div>\n",
              "      <button class=\"colab-df-convert\" onclick=\"convertToInteractive('df-db6d9e53-32aa-46cc-8a6a-5d7712618830')\"\n",
              "              title=\"Convert this dataframe to an interactive table.\"\n",
              "              style=\"display:none;\">\n",
              "        \n",
              "  <svg xmlns=\"http://www.w3.org/2000/svg\" height=\"24px\"viewBox=\"0 0 24 24\"\n",
              "       width=\"24px\">\n",
              "    <path d=\"M0 0h24v24H0V0z\" fill=\"none\"/>\n",
              "    <path d=\"M18.56 5.44l.94 2.06.94-2.06 2.06-.94-2.06-.94-.94-2.06-.94 2.06-2.06.94zm-11 1L8.5 8.5l.94-2.06 2.06-.94-2.06-.94L8.5 2.5l-.94 2.06-2.06.94zm10 10l.94 2.06.94-2.06 2.06-.94-2.06-.94-.94-2.06-.94 2.06-2.06.94z\"/><path d=\"M17.41 7.96l-1.37-1.37c-.4-.4-.92-.59-1.43-.59-.52 0-1.04.2-1.43.59L10.3 9.45l-7.72 7.72c-.78.78-.78 2.05 0 2.83L4 21.41c.39.39.9.59 1.41.59.51 0 1.02-.2 1.41-.59l7.78-7.78 2.81-2.81c.8-.78.8-2.07 0-2.86zM5.41 20L4 18.59l7.72-7.72 1.47 1.35L5.41 20z\"/>\n",
              "  </svg>\n",
              "      </button>\n",
              "      \n",
              "  <style>\n",
              "    .colab-df-container {\n",
              "      display:flex;\n",
              "      flex-wrap:wrap;\n",
              "      gap: 12px;\n",
              "    }\n",
              "\n",
              "    .colab-df-convert {\n",
              "      background-color: #E8F0FE;\n",
              "      border: none;\n",
              "      border-radius: 50%;\n",
              "      cursor: pointer;\n",
              "      display: none;\n",
              "      fill: #1967D2;\n",
              "      height: 32px;\n",
              "      padding: 0 0 0 0;\n",
              "      width: 32px;\n",
              "    }\n",
              "\n",
              "    .colab-df-convert:hover {\n",
              "      background-color: #E2EBFA;\n",
              "      box-shadow: 0px 1px 2px rgba(60, 64, 67, 0.3), 0px 1px 3px 1px rgba(60, 64, 67, 0.15);\n",
              "      fill: #174EA6;\n",
              "    }\n",
              "\n",
              "    [theme=dark] .colab-df-convert {\n",
              "      background-color: #3B4455;\n",
              "      fill: #D2E3FC;\n",
              "    }\n",
              "\n",
              "    [theme=dark] .colab-df-convert:hover {\n",
              "      background-color: #434B5C;\n",
              "      box-shadow: 0px 1px 3px 1px rgba(0, 0, 0, 0.15);\n",
              "      filter: drop-shadow(0px 1px 2px rgba(0, 0, 0, 0.3));\n",
              "      fill: #FFFFFF;\n",
              "    }\n",
              "  </style>\n",
              "\n",
              "      <script>\n",
              "        const buttonEl =\n",
              "          document.querySelector('#df-db6d9e53-32aa-46cc-8a6a-5d7712618830 button.colab-df-convert');\n",
              "        buttonEl.style.display =\n",
              "          google.colab.kernel.accessAllowed ? 'block' : 'none';\n",
              "\n",
              "        async function convertToInteractive(key) {\n",
              "          const element = document.querySelector('#df-db6d9e53-32aa-46cc-8a6a-5d7712618830');\n",
              "          const dataTable =\n",
              "            await google.colab.kernel.invokeFunction('convertToInteractive',\n",
              "                                                     [key], {});\n",
              "          if (!dataTable) return;\n",
              "\n",
              "          const docLinkHtml = 'Like what you see? Visit the ' +\n",
              "            '<a target=\"_blank\" href=https://colab.research.google.com/notebooks/data_table.ipynb>data table notebook</a>'\n",
              "            + ' to learn more about interactive tables.';\n",
              "          element.innerHTML = '';\n",
              "          dataTable['output_type'] = 'display_data';\n",
              "          await google.colab.output.renderOutput(dataTable, element);\n",
              "          const docLink = document.createElement('div');\n",
              "          docLink.innerHTML = docLinkHtml;\n",
              "          element.appendChild(docLink);\n",
              "        }\n",
              "      </script>\n",
              "    </div>\n",
              "  </div>\n",
              "  "
            ]
          },
          "metadata": {},
          "execution_count": 4
        }
      ]
    },
    {
      "cell_type": "markdown",
      "source": [
        "# Exercício. Exclua os valores ausentes\n",
        "\n",
        "Valores ausentes não podem ser empregados no cálculo dos coeficientes da regressão logística, e são um problema para muitos outros modelos. Existem várias formas de se tratar dados ausentes. Aqui vamos, por simplicidade, simplesmente excluir as linhas com dados ausentes.\n",
        "\n",
        "> Qual atributo apresenta valores ausentes e quantas linhas foram excluídas dos dados?\n",
        "\n",
        "**Dica:** Empregue `df.isna().sum()` para identificar dados ausentes e `df.dropna()` para excluir as linhas.\n",
        "\n"
      ],
      "metadata": {
        "id": "A08qG6zaQi6t"
      }
    },
    {
      "cell_type": "code",
      "source": [
        "# seu código\n",
        "print( mpg.isna().sum() )\n",
        "\n",
        "mpg = mpg.dropna()\n",
        "\n",
        "print( mpg.isna().sum() )"
      ],
      "metadata": {
        "colab": {
          "base_uri": "https://localhost:8080/"
        },
        "id": "B4CVYeZbQUVc",
        "outputId": "700a4c5a-e16e-4564-ed20-a47e2f3289f8"
      },
      "execution_count": null,
      "outputs": [
        {
          "output_type": "stream",
          "name": "stdout",
          "text": [
            "mpg             0\n",
            "cylinders       0\n",
            "displacement    0\n",
            "horsepower      6\n",
            "weight          0\n",
            "acceleration    0\n",
            "model_year      0\n",
            "origin          0\n",
            "name            0\n",
            "dtype: int64\n",
            "mpg             0\n",
            "cylinders       0\n",
            "displacement    0\n",
            "horsepower      0\n",
            "weight          0\n",
            "acceleration    0\n",
            "model_year      0\n",
            "origin          0\n",
            "name            0\n",
            "dtype: int64\n"
          ]
        }
      ]
    },
    {
      "cell_type": "markdown",
      "source": [
        "# Exercício. Altere os valores do campo `origin`\n",
        "\n",
        "A Regressão Logística é um classificador binário. Altere os valores do campo `origin`:"
      ],
      "metadata": {
        "id": "fMajp0a6SAqS"
      }
    },
    {
      "cell_type": "code",
      "metadata": {
        "colab": {
          "base_uri": "https://localhost:8080/"
        },
        "id": "ca-1fpjAEhQG",
        "outputId": "ac3be383-c8d0-4e61-d6d3-70f799e235c9"
      },
      "source": [
        "mpg.origin.value_counts()"
      ],
      "execution_count": null,
      "outputs": [
        {
          "output_type": "execute_result",
          "data": {
            "text/plain": [
              "usa       245\n",
              "japan      79\n",
              "europe     68\n",
              "Name: origin, dtype: int64"
            ]
          },
          "metadata": {},
          "execution_count": 6
        }
      ]
    },
    {
      "cell_type": "markdown",
      "source": [
        "para os valores `usa` e `non-usa` para podermos classificar a origem dos veículos como sendo dos Estados Unidos ou não.\n",
        "\n",
        "> Quantos veículos `usa` e `non-usa` foram obtidos?\n",
        "\n",
        "**Dica:** Empregue `df.campo.replace('old','new')`"
      ],
      "metadata": {
        "id": "yN84HQeOSd62"
      }
    },
    {
      "cell_type": "code",
      "metadata": {
        "id": "m6Mj132ha8dJ",
        "colab": {
          "base_uri": "https://localhost:8080/"
        },
        "outputId": "ff4bca70-7737-49d6-d70a-c45d4f5d2e2a"
      },
      "source": [
        "# seu código\n",
        "mpg.origin = mpg.origin.replace('europe','non-usa')\n",
        "mpg.origin = mpg.origin.replace('japan','non-usa')\n",
        "\n",
        "mpg.origin.value_counts()"
      ],
      "execution_count": null,
      "outputs": [
        {
          "output_type": "execute_result",
          "data": {
            "text/plain": [
              "usa        245\n",
              "non-usa    147\n",
              "Name: origin, dtype: int64"
            ]
          },
          "metadata": {},
          "execution_count": 7
        }
      ]
    },
    {
      "cell_type": "markdown",
      "source": [
        "# Exercício. Classifique a `origin` dos veículos a partir dos valores de `mpg` e `cylinders`\n",
        "\n",
        "Empregue o modelo de Regressão Logística para classificar a `origin` dos veículos a partir somente dos valores de `mpg` e `cylinders`.\n",
        "\n",
        "Empregue $30$% para dados de teste, estratificados pelo atributo de classe e a semente de geração aleatória (`random_state=1`).\n",
        "\n",
        "> Qual a acuracidade (*score*) obtido pelo modelo?\n",
        "\n",
        "**Dica:** *Muito Cuidado*. Se você não empregar exatamente as configurações acima você vai criar conjuntos de treinamento e testes diferentes e não vai chegar às respostas que encontra nos testes!"
      ],
      "metadata": {
        "id": "AIKiwRtxT114"
      }
    },
    {
      "cell_type": "code",
      "metadata": {
        "colab": {
          "base_uri": "https://localhost:8080/"
        },
        "id": "570uz7Mk26jy",
        "outputId": "69a5353c-4d26-4cb4-9949-eee9a780bd4e"
      },
      "source": [
        "# seu código\n",
        "from sklearn.model_selection import train_test_split\n",
        "from sklearn.linear_model import LogisticRegression\n",
        "\n",
        "# separando variável dependente e independentes\n",
        "X = mpg[['mpg','cylinders']]\n",
        "y = mpg['origin']\n",
        "\n",
        "# separando conjuntos de treinamento e teste\n",
        "X_train, X_test, y_train, y_test = train_test_split(X, y, test_size=0.3, stratify=y, random_state=1)\n",
        "\n",
        "# selecionando o modelo\n",
        "clf = LogisticRegression()\n",
        "\n",
        "# treinando o modelo\n",
        "clf.fit(X_train,y_train)\n",
        "\n",
        "# utilizando o modelo\n",
        "y_pred=clf.predict(X_test)\n",
        "\n",
        "# verificando o resultado\n",
        "print( clf.score(X_test,y_test) )"
      ],
      "execution_count": null,
      "outputs": [
        {
          "output_type": "stream",
          "name": "stdout",
          "text": [
            "0.8050847457627118\n"
          ]
        }
      ]
    },
    {
      "cell_type": "markdown",
      "source": [
        "# Exercício. Classifique os veículos com valores `mpg` e `cylinders` igual aos valores máximos e mínimos dos dados\n",
        "\n",
        "Você não vai ter nenhuma surpresa aqui com o resultado :-)\n",
        "\n",
        "> Qual o resultado da classificação?\n",
        "\n",
        "**Dica:** Crie um dataframe exatamente com esses atributos e os valores minímo e máximos encontrados no dataframe original para sua entrada no `predict()`.\n"
      ],
      "metadata": {
        "id": "NevXaFi5VFLB"
      }
    },
    {
      "cell_type": "code",
      "source": [
        "# seu código\n",
        "mpg_new = pd.DataFrame()\n",
        "mpg_new['mpg'] = np.array( [ mpg['mpg'].min(), mpg['mpg'].max() ] )\n",
        "mpg_new['cylinders'] = np.array( [ mpg['cylinders'].min(), mpg['cylinders'].max() ] )\n",
        "\n",
        "mpg_new"
      ],
      "metadata": {
        "colab": {
          "base_uri": "https://localhost:8080/",
          "height": 112
        },
        "id": "7vRGQx-9VjSN",
        "outputId": "ea5c0e6b-05a8-4889-90e6-2c6c1d9d3754"
      },
      "execution_count": null,
      "outputs": [
        {
          "output_type": "execute_result",
          "data": {
            "text/plain": [
              "    mpg  cylinders\n",
              "0   9.0          3\n",
              "1  46.6          8"
            ],
            "text/html": [
              "\n",
              "  <div id=\"df-eb749617-5dc9-46c6-8377-fbc4df3643d7\">\n",
              "    <div class=\"colab-df-container\">\n",
              "      <div>\n",
              "<style scoped>\n",
              "    .dataframe tbody tr th:only-of-type {\n",
              "        vertical-align: middle;\n",
              "    }\n",
              "\n",
              "    .dataframe tbody tr th {\n",
              "        vertical-align: top;\n",
              "    }\n",
              "\n",
              "    .dataframe thead th {\n",
              "        text-align: right;\n",
              "    }\n",
              "</style>\n",
              "<table border=\"1\" class=\"dataframe\">\n",
              "  <thead>\n",
              "    <tr style=\"text-align: right;\">\n",
              "      <th></th>\n",
              "      <th>mpg</th>\n",
              "      <th>cylinders</th>\n",
              "    </tr>\n",
              "  </thead>\n",
              "  <tbody>\n",
              "    <tr>\n",
              "      <th>0</th>\n",
              "      <td>9.0</td>\n",
              "      <td>3</td>\n",
              "    </tr>\n",
              "    <tr>\n",
              "      <th>1</th>\n",
              "      <td>46.6</td>\n",
              "      <td>8</td>\n",
              "    </tr>\n",
              "  </tbody>\n",
              "</table>\n",
              "</div>\n",
              "      <button class=\"colab-df-convert\" onclick=\"convertToInteractive('df-eb749617-5dc9-46c6-8377-fbc4df3643d7')\"\n",
              "              title=\"Convert this dataframe to an interactive table.\"\n",
              "              style=\"display:none;\">\n",
              "        \n",
              "  <svg xmlns=\"http://www.w3.org/2000/svg\" height=\"24px\"viewBox=\"0 0 24 24\"\n",
              "       width=\"24px\">\n",
              "    <path d=\"M0 0h24v24H0V0z\" fill=\"none\"/>\n",
              "    <path d=\"M18.56 5.44l.94 2.06.94-2.06 2.06-.94-2.06-.94-.94-2.06-.94 2.06-2.06.94zm-11 1L8.5 8.5l.94-2.06 2.06-.94-2.06-.94L8.5 2.5l-.94 2.06-2.06.94zm10 10l.94 2.06.94-2.06 2.06-.94-2.06-.94-.94-2.06-.94 2.06-2.06.94z\"/><path d=\"M17.41 7.96l-1.37-1.37c-.4-.4-.92-.59-1.43-.59-.52 0-1.04.2-1.43.59L10.3 9.45l-7.72 7.72c-.78.78-.78 2.05 0 2.83L4 21.41c.39.39.9.59 1.41.59.51 0 1.02-.2 1.41-.59l7.78-7.78 2.81-2.81c.8-.78.8-2.07 0-2.86zM5.41 20L4 18.59l7.72-7.72 1.47 1.35L5.41 20z\"/>\n",
              "  </svg>\n",
              "      </button>\n",
              "      \n",
              "  <style>\n",
              "    .colab-df-container {\n",
              "      display:flex;\n",
              "      flex-wrap:wrap;\n",
              "      gap: 12px;\n",
              "    }\n",
              "\n",
              "    .colab-df-convert {\n",
              "      background-color: #E8F0FE;\n",
              "      border: none;\n",
              "      border-radius: 50%;\n",
              "      cursor: pointer;\n",
              "      display: none;\n",
              "      fill: #1967D2;\n",
              "      height: 32px;\n",
              "      padding: 0 0 0 0;\n",
              "      width: 32px;\n",
              "    }\n",
              "\n",
              "    .colab-df-convert:hover {\n",
              "      background-color: #E2EBFA;\n",
              "      box-shadow: 0px 1px 2px rgba(60, 64, 67, 0.3), 0px 1px 3px 1px rgba(60, 64, 67, 0.15);\n",
              "      fill: #174EA6;\n",
              "    }\n",
              "\n",
              "    [theme=dark] .colab-df-convert {\n",
              "      background-color: #3B4455;\n",
              "      fill: #D2E3FC;\n",
              "    }\n",
              "\n",
              "    [theme=dark] .colab-df-convert:hover {\n",
              "      background-color: #434B5C;\n",
              "      box-shadow: 0px 1px 3px 1px rgba(0, 0, 0, 0.15);\n",
              "      filter: drop-shadow(0px 1px 2px rgba(0, 0, 0, 0.3));\n",
              "      fill: #FFFFFF;\n",
              "    }\n",
              "  </style>\n",
              "\n",
              "      <script>\n",
              "        const buttonEl =\n",
              "          document.querySelector('#df-eb749617-5dc9-46c6-8377-fbc4df3643d7 button.colab-df-convert');\n",
              "        buttonEl.style.display =\n",
              "          google.colab.kernel.accessAllowed ? 'block' : 'none';\n",
              "\n",
              "        async function convertToInteractive(key) {\n",
              "          const element = document.querySelector('#df-eb749617-5dc9-46c6-8377-fbc4df3643d7');\n",
              "          const dataTable =\n",
              "            await google.colab.kernel.invokeFunction('convertToInteractive',\n",
              "                                                     [key], {});\n",
              "          if (!dataTable) return;\n",
              "\n",
              "          const docLinkHtml = 'Like what you see? Visit the ' +\n",
              "            '<a target=\"_blank\" href=https://colab.research.google.com/notebooks/data_table.ipynb>data table notebook</a>'\n",
              "            + ' to learn more about interactive tables.';\n",
              "          element.innerHTML = '';\n",
              "          dataTable['output_type'] = 'display_data';\n",
              "          await google.colab.output.renderOutput(dataTable, element);\n",
              "          const docLink = document.createElement('div');\n",
              "          docLink.innerHTML = docLinkHtml;\n",
              "          element.appendChild(docLink);\n",
              "        }\n",
              "      </script>\n",
              "    </div>\n",
              "  </div>\n",
              "  "
            ]
          },
          "metadata": {},
          "execution_count": 9
        }
      ]
    },
    {
      "cell_type": "code",
      "source": [
        "clf.predict(mpg_new)"
      ],
      "metadata": {
        "colab": {
          "base_uri": "https://localhost:8080/"
        },
        "id": "5odCn6nQW0Pd",
        "outputId": "e68ef9c6-0833-4b49-a754-a8d739972423"
      },
      "execution_count": null,
      "outputs": [
        {
          "output_type": "execute_result",
          "data": {
            "text/plain": [
              "array(['non-usa', 'usa'], dtype=object)"
            ]
          },
          "metadata": {},
          "execution_count": 10
        }
      ]
    },
    {
      "cell_type": "markdown",
      "source": [
        "# Exercício. Classifique a `origin` dos veículos a partir de todos os preditores válidos\n",
        "\n",
        "Empregue agora o modelo de Regressão Logística para classificar a `origin` dos veículos a partir de todos os preditores válidos\n",
        "\n",
        "Empregue $30$% para dados de teste, estratificados pelo atributo de classe e a semente de geração aleatória (`random_state=1`).\n",
        "\n",
        "> Qual a acuracidade (*score*) obtido pelo modelo?\n",
        "\n",
        "**Dica:** *Muito Cuidado*. Se você não empregar exatamente as configurações acima você vai criar conjuntos de treinamento e testes diferentes e não vai chegar às respostas que encontra nos testes!\n",
        "\n",
        "**Dica:** Existe um atributo que não faz sentido ser empregado como preditor e precisa ser excluído das variáveis de entrada. Qual?"
      ],
      "metadata": {
        "id": "OkKRssUpXK4t"
      }
    },
    {
      "cell_type": "code",
      "metadata": {
        "colab": {
          "base_uri": "https://localhost:8080/"
        },
        "outputId": "c3e1bd57-ffa3-436a-b3c6-b149c01bbf23",
        "id": "WG8usyodXHrP"
      },
      "source": [
        "# seu código\n",
        "from sklearn.model_selection import train_test_split\n",
        "from sklearn.linear_model import LogisticRegression\n",
        "\n",
        "# separando variável dependente e independentes\n",
        "X = mpg.drop(columns=['origin','name'])\n",
        "y = mpg['origin']\n",
        "\n",
        "# separando conjuntos de treinamento e teste\n",
        "X_train, X_test, y_train, y_test = train_test_split(X, y, test_size=0.3, random_state=1)\n",
        "\n",
        "# selecionando o modelo\n",
        "clf = LogisticRegression()\n",
        "\n",
        "# treinando o modelo\n",
        "clf.fit(X_train,y_train)\n",
        "\n",
        "# utilizando o modelo\n",
        "y_pred=clf.predict(X_test)\n",
        "\n",
        "# verificando o resultado\n",
        "print( clf.score(X_test,y_test) )"
      ],
      "execution_count": null,
      "outputs": [
        {
          "output_type": "stream",
          "name": "stdout",
          "text": [
            "0.940677966101695\n"
          ]
        }
      ]
    }
  ]
}